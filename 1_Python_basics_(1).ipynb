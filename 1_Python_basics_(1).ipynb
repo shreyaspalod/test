{
  "cells": [
    {
      "cell_type": "markdown",
      "metadata": {
        "id": "SXUZ6tGaKzV0"
      },
      "source": [
        "#### In python everything is an object and whenever we initialize an object is created with its value, id and type"
      ]
    },
    {
      "cell_type": "code",
      "execution_count": null,
      "metadata": {
        "id": "oTVgQ-6qKzV4",
        "outputId": "ca616cae-f94d-40ed-bf1b-50fc7410f754"
      },
      "outputs": [
        {
          "data": {
            "text/plain": [
              "(140001350370496, int, 3)"
            ]
          },
          "execution_count": 1,
          "metadata": {},
          "output_type": "execute_result"
        }
      ],
      "source": [
        "#3 is a number which is being store in a variable \"a\"\n",
        "a = 3\n",
        "id(a), type(a), a"
      ]
    },
    {
      "cell_type": "markdown",
      "metadata": {
        "id": "iKhWLdx8KzV5"
      },
      "source": [
        "Above we got the id of a, type of a and value of a"
      ]
    },
    {
      "cell_type": "markdown",
      "metadata": {
        "id": "unarh8QHKzV5"
      },
      "source": [
        "### Data Types"
      ]
    },
    {
      "cell_type": "markdown",
      "metadata": {
        "id": "qWpgR8JPKzV6"
      },
      "source": [
        "#### 1. Integers"
      ]
    },
    {
      "cell_type": "code",
      "execution_count": null,
      "metadata": {
        "id": "8OH7dkJ8KzV6"
      },
      "outputs": [],
      "source": [
        "#initializing variables with integers\n",
        "a = 14\n",
        "b = 3\n",
        "c = 100\n",
        "d = -6700\n",
        "e = 0"
      ]
    },
    {
      "cell_type": "code",
      "execution_count": null,
      "metadata": {
        "id": "jdLYTPIKKzV6",
        "outputId": "84a75ffc-c084-4f9c-930b-48bd2e9eba77"
      },
      "outputs": [
        {
          "data": {
            "text/plain": [
              "int"
            ]
          },
          "execution_count": 6,
          "metadata": {},
          "output_type": "execute_result"
        }
      ],
      "source": [
        "type(c)"
      ]
    },
    {
      "cell_type": "code",
      "execution_count": null,
      "metadata": {
        "id": "TPWSAkzDKzV7",
        "outputId": "6fad3256-95e1-4606-a497-b6ce3417b4ef"
      },
      "outputs": [
        {
          "data": {
            "text/plain": [
              "(17, 11, 1400, 4.666666666666667)"
            ]
          },
          "execution_count": 5,
          "metadata": {},
          "output_type": "execute_result"
        }
      ],
      "source": [
        "a + b, a - b, a * c, a/b"
      ]
    },
    {
      "cell_type": "code",
      "execution_count": null,
      "metadata": {
        "id": "hsg6_I7MKzV7"
      },
      "outputs": [],
      "source": [
        "#Task\n",
        "\n",
        "#Create 3 integers and perform different operations (Addidtion, subtraction, multiplication and division)"
      ]
    },
    {
      "cell_type": "markdown",
      "metadata": {
        "id": "JSV1yiFcKzV8"
      },
      "source": [
        "#### 2. Booleans"
      ]
    },
    {
      "cell_type": "markdown",
      "metadata": {
        "id": "nGAAQeZSKzV8"
      },
      "source": [
        "In python, True and False are two keywords used to represent truth value."
      ]
    },
    {
      "cell_type": "code",
      "execution_count": null,
      "metadata": {
        "id": "5zqxqYI2KzV8",
        "outputId": "94bd861b-5a89-41d0-e984-84e3d605620e"
      },
      "outputs": [
        {
          "data": {
            "text/plain": [
              "False"
            ]
          },
          "execution_count": 9,
          "metadata": {},
          "output_type": "execute_result"
        }
      ],
      "source": [
        "False"
      ]
    },
    {
      "cell_type": "code",
      "execution_count": null,
      "metadata": {
        "id": "8j1uTa6uKzV8",
        "outputId": "01acf077-5fa4-46fe-cfd3-7409abcd4e95"
      },
      "outputs": [
        {
          "data": {
            "text/plain": [
              "(1, 0)"
            ]
          },
          "execution_count": 15,
          "metadata": {},
          "output_type": "execute_result"
        }
      ],
      "source": [
        "int(True), int(False)"
      ]
    },
    {
      "cell_type": "code",
      "execution_count": null,
      "metadata": {
        "id": "777uueqWKzV9",
        "outputId": "e44dd257-9431-4a02-db23-3c2ff8891742"
      },
      "outputs": [
        {
          "data": {
            "text/plain": [
              "bool"
            ]
          },
          "execution_count": 4,
          "metadata": {},
          "output_type": "execute_result"
        }
      ],
      "source": [
        "type(True)"
      ]
    },
    {
      "cell_type": "code",
      "execution_count": null,
      "metadata": {
        "id": "42eOwzI2KzV9",
        "outputId": "adb1a62b-3875-46c8-ef49-582d02d150c9"
      },
      "outputs": [
        {
          "data": {
            "text/plain": [
              "False"
            ]
          },
          "execution_count": 16,
          "metadata": {},
          "output_type": "execute_result"
        }
      ],
      "source": [
        "not True"
      ]
    },
    {
      "cell_type": "code",
      "execution_count": null,
      "metadata": {
        "id": "ECA3ILs2KzV-",
        "outputId": "219e4396-266d-4cfb-dabd-c2ef8c4bf27d"
      },
      "outputs": [
        {
          "data": {
            "text/plain": [
              "True"
            ]
          },
          "execution_count": 17,
          "metadata": {},
          "output_type": "execute_result"
        }
      ],
      "source": [
        "True and True"
      ]
    },
    {
      "cell_type": "code",
      "execution_count": null,
      "metadata": {
        "id": "ROx_ueEWKzWA",
        "outputId": "86ca88dd-a3e3-4e20-95f8-89db08a23667"
      },
      "outputs": [
        {
          "data": {
            "text/plain": [
              "False"
            ]
          },
          "execution_count": 18,
          "metadata": {},
          "output_type": "execute_result"
        }
      ],
      "source": [
        "True and False"
      ]
    },
    {
      "cell_type": "code",
      "execution_count": null,
      "metadata": {
        "id": "1DoOQ5Q8KzWA",
        "outputId": "8534e911-18a5-4d43-907f-4c411bc52666"
      },
      "outputs": [
        {
          "data": {
            "text/plain": [
              "False"
            ]
          },
          "execution_count": 19,
          "metadata": {},
          "output_type": "execute_result"
        }
      ],
      "source": [
        "False or False"
      ]
    },
    {
      "cell_type": "code",
      "execution_count": null,
      "metadata": {
        "id": "ri3ktgQhKzWA",
        "outputId": "f836de4a-ac24-44d5-e930-5f90e0c58990"
      },
      "outputs": [
        {
          "data": {
            "text/plain": [
              "True"
            ]
          },
          "execution_count": 20,
          "metadata": {},
          "output_type": "execute_result"
        }
      ],
      "source": [
        "False or True"
      ]
    },
    {
      "cell_type": "markdown",
      "metadata": {
        "id": "rjScGWemKzWA"
      },
      "source": [
        "#### 3. Real Numbers"
      ]
    },
    {
      "cell_type": "code",
      "execution_count": null,
      "metadata": {
        "id": "22ctOB-UKzWA",
        "outputId": "b96892e7-b775-4413-cc76-fd477e83f174"
      },
      "outputs": [
        {
          "data": {
            "text/plain": [
              "(32.16473593548801, 140709193168176, float)"
            ]
          },
          "execution_count": 15,
          "metadata": {},
          "output_type": "execute_result"
        }
      ],
      "source": [
        "pi = 3.1410874937\n",
        "radius = 3.2\n",
        "\n",
        "\n",
        "area = pi * (radius **2)\n",
        "\n",
        "area, id(area), type(area)"
      ]
    },
    {
      "cell_type": "markdown",
      "metadata": {
        "id": "LwBN-8WpKzWB"
      },
      "source": [
        "#### 4. Strings/Characters"
      ]
    },
    {
      "cell_type": "code",
      "execution_count": null,
      "metadata": {
        "id": "97FtBl26KzWB"
      },
      "outputs": [],
      "source": [
        "str1 = 'We are learning python basics'\n",
        "str2 = \"Python is an interpreted language\"\n",
        "str3 = '''I like python'''"
      ]
    },
    {
      "cell_type": "code",
      "execution_count": null,
      "metadata": {
        "id": "qIjDa14jKzWB",
        "outputId": "cf2b1a3b-d8f0-4692-a65d-93b21d3c8915"
      },
      "outputs": [
        {
          "data": {
            "text/plain": [
              "('I like python', 140709193229296, str)"
            ]
          },
          "execution_count": 17,
          "metadata": {},
          "output_type": "execute_result"
        }
      ],
      "source": [
        "str3, id(str3), type(str3)"
      ]
    },
    {
      "cell_type": "code",
      "execution_count": null,
      "metadata": {
        "id": "J-D3_IUsKzWB",
        "outputId": "dcaeffb5-b160-469f-df60-ce700381d99f"
      },
      "outputs": [
        {
          "data": {
            "text/plain": [
              "29"
            ]
          },
          "execution_count": 7,
          "metadata": {},
          "output_type": "execute_result"
        }
      ],
      "source": [
        "#length of a string including whitespaces\n",
        "len(str1)"
      ]
    },
    {
      "cell_type": "markdown",
      "metadata": {
        "id": "j62Hfrx-KzWB"
      },
      "source": [
        "#### 5. Tuples"
      ]
    },
    {
      "cell_type": "markdown",
      "metadata": {
        "id": "hIoLAZbfKzWB"
      },
      "source": [
        "Immutable sequence type objects"
      ]
    },
    {
      "cell_type": "code",
      "execution_count": null,
      "metadata": {
        "id": "jAmcQpVnKzWB"
      },
      "outputs": [],
      "source": [
        "#initializing an empty tuple\n",
        "my_first_tuple = ()"
      ]
    },
    {
      "cell_type": "code",
      "execution_count": null,
      "metadata": {
        "id": "mHidlA8lKzWB",
        "outputId": "692320c0-f5d1-4110-c6f2-fc6bb104e8b1"
      },
      "outputs": [
        {
          "data": {
            "text/plain": [
              "(tuple, 140709482266704)"
            ]
          },
          "execution_count": 21,
          "metadata": {},
          "output_type": "execute_result"
        }
      ],
      "source": [
        "#there is no value yet to the tuple\n",
        "type(my_first_tuple), id(my_first_tuple)"
      ]
    },
    {
      "cell_type": "code",
      "execution_count": null,
      "metadata": {
        "id": "y7JxWoEPKzWB"
      },
      "outputs": [],
      "source": [
        "#initialize a non empty tuple. Note we have two integers in a sequence\n",
        "my_first_tuple = (4, 5)"
      ]
    },
    {
      "cell_type": "code",
      "execution_count": null,
      "metadata": {
        "id": "PC6fjrBJKzWB",
        "outputId": "0903c0c1-e243-4661-c6bb-a8e12c3d81ce"
      },
      "outputs": [
        {
          "data": {
            "text/plain": [
              "(tuple, 140709328528880, (4, 5))"
            ]
          },
          "execution_count": 24,
          "metadata": {},
          "output_type": "execute_result"
        }
      ],
      "source": [
        "type(my_first_tuple), id(my_first_tuple), my_first_tuple"
      ]
    },
    {
      "cell_type": "code",
      "execution_count": null,
      "metadata": {
        "id": "-cpQim-IKzWB",
        "outputId": "43d312d4-07c3-4824-cdfe-6f884bacfe6a"
      },
      "outputs": [
        {
          "data": {
            "text/plain": [
              "(4, 'python')"
            ]
          },
          "execution_count": 25,
          "metadata": {},
          "output_type": "execute_result"
        }
      ],
      "source": [
        "#initialize different data types\n",
        "my_first_tuple = (4, 'python')\n",
        "my_first_tuple"
      ]
    },
    {
      "cell_type": "code",
      "execution_count": null,
      "metadata": {
        "id": "mnvwFOcXKzWC",
        "outputId": "9e7e85b9-cdcf-4c0f-d28c-a0e94bae8719"
      },
      "outputs": [
        {
          "data": {
            "text/plain": [
              "(4, 'python', 9.01)"
            ]
          },
          "execution_count": 26,
          "metadata": {},
          "output_type": "execute_result"
        }
      ],
      "source": [
        "my_first_tuple = (4, 'python', 9.01000000000000000000000000004)\n",
        "my_first_tuple"
      ]
    },
    {
      "cell_type": "code",
      "execution_count": null,
      "metadata": {
        "id": "bQ8yilpUKzWC",
        "outputId": "57d7e1a2-eff4-4827-8baa-209a2c5be0a1"
      },
      "outputs": [
        {
          "ename": "TypeError",
          "evalue": "'tuple' object does not support item assignment",
          "output_type": "error",
          "traceback": [
            "\u001b[0;31m---------------------------------------------------------------------------\u001b[0m",
            "\u001b[0;31mTypeError\u001b[0m                                 Traceback (most recent call last)",
            "\u001b[0;32m<ipython-input-16-aeaa03cae8a9>\u001b[0m in \u001b[0;36m<module>\u001b[0;34m\u001b[0m\n\u001b[1;32m      1\u001b[0m \u001b[0;31m#Assigning the first position in your tuple to 5\u001b[0m\u001b[0;34m\u001b[0m\u001b[0;34m\u001b[0m\u001b[0;34m\u001b[0m\u001b[0m\n\u001b[0;32m----> 2\u001b[0;31m \u001b[0mmy_first_tuple\u001b[0m\u001b[0;34m[\u001b[0m\u001b[0;36m0\u001b[0m\u001b[0;34m]\u001b[0m \u001b[0;34m=\u001b[0m \u001b[0;36m5\u001b[0m\u001b[0;34m\u001b[0m\u001b[0;34m\u001b[0m\u001b[0m\n\u001b[0m",
            "\u001b[0;31mTypeError\u001b[0m: 'tuple' object does not support item assignment"
          ]
        }
      ],
      "source": [
        "#Assigning the first position in your tuple to 5\n",
        "my_first_tuple[0] = 5"
      ]
    },
    {
      "cell_type": "markdown",
      "metadata": {
        "id": "82hGCoS1KzWC"
      },
      "source": [
        "Since tuple is immutable it wont allow any updates in its value"
      ]
    },
    {
      "cell_type": "code",
      "execution_count": null,
      "metadata": {
        "id": "AHRJF3JGKzWC",
        "outputId": "2cbf5455-b787-42ac-a0e7-13304d50c80b"
      },
      "outputs": [
        {
          "data": {
            "text/plain": [
              "(5, 'python', 9.01)"
            ]
          },
          "execution_count": 27,
          "metadata": {},
          "output_type": "execute_result"
        }
      ],
      "source": [
        "#To solve it or initialize the entire variable again\n",
        "my_first_tuple = (5, 'python', 9.01000000000000000000000000004)\n",
        "my_first_tuple"
      ]
    },
    {
      "cell_type": "code",
      "execution_count": null,
      "metadata": {
        "id": "PdjOyxBiKzWC",
        "outputId": "a120cc48-0817-4fae-a2af-d2013398446b"
      },
      "outputs": [
        {
          "data": {
            "text/plain": [
              "(2, 3, 4, 6, 8, 9, 10)"
            ]
          },
          "execution_count": 12,
          "metadata": {},
          "output_type": "execute_result"
        }
      ],
      "source": [
        "my_second_tuple = (2, 3, 4, 6, 8, 9, 10)\n",
        "my_second_tuple"
      ]
    },
    {
      "cell_type": "code",
      "execution_count": null,
      "metadata": {
        "id": "NwLglWLeKzWC",
        "outputId": "63477d13-63f5-44de-8af1-37148e886463"
      },
      "outputs": [
        {
          "data": {
            "text/plain": [
              "False"
            ]
          },
          "execution_count": 11,
          "metadata": {},
          "output_type": "execute_result"
        }
      ],
      "source": [
        "#Let me do a search\n",
        "\n",
        "5 in my_second_tuple"
      ]
    },
    {
      "cell_type": "code",
      "execution_count": null,
      "metadata": {
        "id": "4W23Y0JMKzWC",
        "outputId": "36c08060-f0d3-4a87-c655-e836b74a4683"
      },
      "outputs": [
        {
          "data": {
            "text/plain": [
              "True"
            ]
          },
          "execution_count": 12,
          "metadata": {},
          "output_type": "execute_result"
        }
      ],
      "source": [
        "10 in my_second_tuple"
      ]
    },
    {
      "cell_type": "markdown",
      "metadata": {
        "id": "2F-Go4S6KzWI"
      },
      "source": [
        "Exercise : Create a variable of your name, another variable of your age, and another variable about your experience in no of years. Assign it to a tuple."
      ]
    },
    {
      "cell_type": "code",
      "execution_count": null,
      "metadata": {
        "id": "YYwJDJLWKzWI"
      },
      "outputs": [],
      "source": []
    }
  ],
  "metadata": {
    "kernelspec": {
      "display_name": "Python 3",
      "language": "python",
      "name": "python3"
    },
    "language_info": {
      "codemirror_mode": {
        "name": "ipython",
        "version": 3
      },
      "file_extension": ".py",
      "mimetype": "text/x-python",
      "name": "python",
      "nbconvert_exporter": "python",
      "pygments_lexer": "ipython3",
      "version": "3.7.6"
    },
    "colab": {
      "provenance": []
    }
  },
  "nbformat": 4,
  "nbformat_minor": 0
}